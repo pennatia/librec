{
 "cells": [
  {
   "cell_type": "code",
   "execution_count": 2,
   "metadata": {},
   "outputs": [],
   "source": [
    "import pandas as pd \n",
    "import numpy as np"
   ]
  },
  {
   "cell_type": "code",
   "execution_count": 3,
   "metadata": {},
   "outputs": [
    {
     "name": "stderr",
     "output_type": "stream",
     "text": [
      "C:\\Users\\penna\\AppData\\Local\\Temp\\ipykernel_1932\\2935986721.py:11: FutureWarning: The error_bad_lines argument has been deprecated and will be removed in a future version. Use on_bad_lines in the future.\n",
      "\n",
      "\n",
      "  books_l = pd.read_csv(r\"C:\\Users\\penna\\Documents\\Porta\\Education\\Coding\\librec\\librec\\data_warehouse\\larger_set\\books.csv\", sep = ';', encoding = 'latin-1', error_bad_lines=False)\n",
      "b'Skipping line 6452: expected 8 fields, saw 9\\nSkipping line 43667: expected 8 fields, saw 10\\nSkipping line 51751: expected 8 fields, saw 9\\n'\n",
      "b'Skipping line 92038: expected 8 fields, saw 9\\nSkipping line 104319: expected 8 fields, saw 9\\nSkipping line 121768: expected 8 fields, saw 9\\n'\n",
      "b'Skipping line 144058: expected 8 fields, saw 9\\nSkipping line 150789: expected 8 fields, saw 9\\nSkipping line 157128: expected 8 fields, saw 9\\nSkipping line 180189: expected 8 fields, saw 9\\nSkipping line 185738: expected 8 fields, saw 9\\n'\n",
      "b'Skipping line 209388: expected 8 fields, saw 9\\nSkipping line 220626: expected 8 fields, saw 9\\nSkipping line 227933: expected 8 fields, saw 11\\nSkipping line 228957: expected 8 fields, saw 10\\nSkipping line 245933: expected 8 fields, saw 9\\nSkipping line 251296: expected 8 fields, saw 9\\nSkipping line 259941: expected 8 fields, saw 9\\nSkipping line 261529: expected 8 fields, saw 9\\n'\n",
      "C:\\Users\\penna\\AppData\\Local\\Temp\\ipykernel_1932\\2935986721.py:11: DtypeWarning: Columns (3) have mixed types. Specify dtype option on import or set low_memory=False.\n",
      "  books_l = pd.read_csv(r\"C:\\Users\\penna\\Documents\\Porta\\Education\\Coding\\librec\\librec\\data_warehouse\\larger_set\\books.csv\", sep = ';', encoding = 'latin-1', error_bad_lines=False)\n",
      "C:\\Users\\penna\\AppData\\Local\\Temp\\ipykernel_1932\\2935986721.py:19: SettingWithCopyWarning: \n",
      "A value is trying to be set on a copy of a slice from a DataFrame.\n",
      "Try using .loc[row_indexer,col_indexer] = value instead\n",
      "\n",
      "See the caveats in the documentation: https://pandas.pydata.org/pandas-docs/stable/user_guide/indexing.html#returning-a-view-versus-a-copy\n",
      "  books_s_redux['original_publication_year'] = pd.to_numeric(books_s['original_publication_year'], errors='coerce', downcast='integer')\n"
     ]
    }
   ],
   "source": [
    "rename_dict = {\n",
    "    'ISBN': 'isbn',\n",
    "    'Book-Author': 'authors',\n",
    "    'Book-Title': 'title',\n",
    "    'Year-Of-Publication': 'original_publication_year',\n",
    "    'Image-URL-S': 'small_image_url'\n",
    "}\n",
    "\n",
    "ratings_l = pd.read_csv(r\"C:\\Users\\penna\\Documents\\Porta\\Education\\Coding\\librec\\librec\\data_warehouse\\larger_set\\ratings.csv\", sep = ';', encoding = 'latin-1')\n",
    "users_l = pd.read_csv(r\"C:\\Users\\penna\\Documents\\Porta\\Education\\Coding\\librec\\librec\\data_warehouse\\larger_set\\users.csv\", sep = ';', encoding = 'latin-1')\n",
    "books_l = pd.read_csv(r\"C:\\Users\\penna\\Documents\\Porta\\Education\\Coding\\librec\\librec\\data_warehouse\\larger_set\\books.csv\", sep = ';', encoding = 'latin-1', error_bad_lines=False)\n",
    "books_l = books_l.rename(columns = rename_dict).drop(['Publisher', 'Image-URL-M','Image-URL-L'], axis = 1)\n",
    "books_l['original_publication_year'] =  pd.to_numeric(books_l['original_publication_year'], errors='coerce', downcast='integer')\n",
    "\n",
    "# Import smaller set\n",
    "ratings_s = pd.read_csv(r\"C:\\Users\\penna\\Documents\\Porta\\Education\\Coding\\librec\\librec\\data_warehouse\\goodbooks-10k\\ratings_10k.csv\")\n",
    "books_s = pd.read_csv(r\"C:\\Users\\penna\\Documents\\Porta\\Education\\Coding\\librec\\librec\\data_warehouse\\goodbooks-10k\\books_10k.csv\")\n",
    "books_s_redux = books_s[['isbn','authors','title','original_publication_year','small_image_url']]\n",
    "books_s_redux['original_publication_year'] = pd.to_numeric(books_s['original_publication_year'], errors='coerce', downcast='integer')\n",
    "\n",
    "books_df = pd.concat([books_l, books_s_redux], axis = 0)\n",
    "books_df = books_df.drop_duplicates(subset = 'isbn')"
   ]
  },
  {
   "cell_type": "code",
   "execution_count": 4,
   "metadata": {},
   "outputs": [],
   "source": [
    "rating_column_dict = {\n",
    "    'User-ID': 'user_id_adj',\n",
    "    'ISBN': 'isbn',\n",
    "    'Book-Rating': 'rating_adj'\n",
    "}\n",
    "\n",
    "ratings_s['isbn'] = ratings_s['book_id'].map(books_s[['id', 'isbn']].set_index('id').to_dict()['isbn'])\n",
    "ratings_s['rating_adj'] = ratings_s['rating'] * 2\n",
    "ratings_s['user_id_adj'] = ratings_s['user_id'] + ratings_l['User-ID'].max() + 1\n",
    "ratings_s_redux = ratings_s[['user_id_adj', 'isbn', 'rating_adj']]\n",
    "ratings_l = ratings_l.rename(columns = rating_column_dict)\n",
    "ratings_df = pd.concat([ratings_l, ratings_s_redux], axis = 0)\n",
    "\n"
   ]
  },
  {
   "cell_type": "code",
   "execution_count": 8,
   "metadata": {},
   "outputs": [
    {
     "data": {
      "text/plain": [
       "158707"
      ]
     },
     "execution_count": 8,
     "metadata": {},
     "output_type": "execute_result"
    }
   ],
   "source": [
    "len(ratings_df['user_id_adj'].unique())"
   ]
  },
  {
   "cell_type": "code",
   "execution_count": null,
   "metadata": {},
   "outputs": [],
   "source": []
  }
 ],
 "metadata": {
  "kernelspec": {
   "display_name": "Python 3.9.12 ('base')",
   "language": "python",
   "name": "python3"
  },
  "language_info": {
   "codemirror_mode": {
    "name": "ipython",
    "version": 3
   },
   "file_extension": ".py",
   "mimetype": "text/x-python",
   "name": "python",
   "nbconvert_exporter": "python",
   "pygments_lexer": "ipython3",
   "version": "3.9.12"
  },
  "orig_nbformat": 4,
  "vscode": {
   "interpreter": {
    "hash": "c464251f321540e12b69c1f32dbde59112f2e9c643027eed105fd6c14ef56dfc"
   }
  }
 },
 "nbformat": 4,
 "nbformat_minor": 2
}
